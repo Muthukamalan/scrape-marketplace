{
 "cells": [
  {
   "cell_type": "code",
   "execution_count": 1,
   "id": "2c9f59f3-ff06-4052-952e-05b5ca3047a7",
   "metadata": {},
   "outputs": [],
   "source": [
    "import json\n",
    "import time\n",
    "import re\n",
    "import os\n",
    "import glob\n",
    "\n",
    "from urllib.parse import urljoin\n",
    "from bs4 import BeautifulSoup\n",
    "import requests\n",
    "from selenium import webdriver\n",
    "from selenium.webdriver.common.by import By\n",
    "from selenium.webdriver.support.ui import WebDriverWait\n",
    "from selenium.webdriver.support import expected_conditions as EC\n",
    "from selenium.common.exceptions import TimeoutException,WebDriverException"
   ]
  },
  {
   "cell_type": "code",
   "execution_count": 9,
   "id": "8cadcad9-5833-4773-a130-a91500e88877",
   "metadata": {},
   "outputs": [
    {
     "data": {
      "text/plain": [
       "200"
      ]
     },
     "execution_count": 9,
     "metadata": {},
     "output_type": "execute_result"
    }
   ],
   "source": [
    "headers = {\n",
    "    'User-Agent': 'Mozilla/5.0 (Windows NT 10.0; Win64; x64) AppleWebKit/537.36 (KHTML, like Gecko) Chrome/91.0.4472.124 Safari/537.36',\n",
    "    'Accept-Language': 'en-US,en;q=0.9',\n",
    "}\n",
    "\n",
    "base_url = 'https://www.homedepot.com/p/32189805'\n",
    "res = requests.get(base_url,headers=headers)\n",
    "res.status_code"
   ]
  },
  {
   "cell_type": "code",
   "execution_count": 10,
   "id": "2679c724-0dd3-46f5-bc47-7466ead92f59",
   "metadata": {},
   "outputs": [],
   "source": [
    "content     = BeautifulSoup(res.content,'html.parser')\n",
    "sub_content = content.find('script',type=\"text/javascript\")"
   ]
  },
  {
   "cell_type": "code",
   "execution_count": 11,
   "id": "9aba341b-0be6-48d1-bba4-109aacc18fb2",
   "metadata": {},
   "outputs": [
    {
     "data": {
      "text/plain": [
       "'White Chesterfield Sofa with Rolled Arms, Tufted Cushions/3 Seater Sectional Couch for Small Space, Living Room, Bedroom'"
      ]
     },
     "execution_count": 11,
     "metadata": {},
     "output_type": "execute_result"
    }
   ],
   "source": [
    "content.find('div','product-details__badge-title--wrapper').text"
   ]
  },
  {
   "cell_type": "code",
   "execution_count": 12,
   "id": "c0e133e8-66b7-4082-bd66-450a643f04b0",
   "metadata": {},
   "outputs": [
    {
     "data": {
      "text/plain": [
       "'(2)'"
      ]
     },
     "execution_count": 12,
     "metadata": {},
     "output_type": "execute_result"
    }
   ],
   "source": [
    "content.find('a','product-details__rating-container').get_text()"
   ]
  },
  {
   "cell_type": "code",
   "execution_count": 13,
   "id": "0220ac70-d7c7-4d77-918c-c86817bd8ba7",
   "metadata": {},
   "outputs": [
    {
     "data": {
      "text/plain": [
       "'4.5 out of 5'"
      ]
     },
     "execution_count": 13,
     "metadata": {},
     "output_type": "execute_result"
    }
   ],
   "source": [
    "re.search(r'title=\"([^\"]+)\"', str(content.find('a','product-details__rating-container'))).group(1)"
   ]
  },
  {
   "cell_type": "code",
   "execution_count": 14,
   "id": "e7749b65-1fec-4aed-bdeb-bdff6c710988",
   "metadata": {},
   "outputs": [
    {
     "data": {
      "text/plain": [
       "'$519.21'"
      ]
     },
     "execution_count": 14,
     "metadata": {},
     "output_type": "execute_result"
    }
   ],
   "source": [
    "content.find('div','price-format__large price-format__main-price').text"
   ]
  },
  {
   "cell_type": "code",
   "execution_count": 26,
   "id": "1b2e985f-12d2-4ad7-a3f7-861317ce973c",
   "metadata": {},
   "outputs": [
    {
     "name": "stdout",
     "output_type": "stream",
     "text": [
      "200\n",
      "Tan Top Grain Mid-Century Loveseat Sofa, Leather Couch, Mid Century Couch Small Loveseat\n",
      "(4)\n",
      "(4)\n",
      "4.8 out of 5\n",
      "200\n",
      "74.5 in. W Square Arm Leather Straight Top Grain Leather Mid-Century Sofa in Beige\n",
      "(15)\n",
      "(15)\n",
      "4.0 out of 5\n",
      "200\n",
      "White Chesterfield Sofa with Rolled Arms, Tufted Cushions/3 Seater Sectional Couch for Small Space, Living Room, Bedroom\n",
      "(2)\n",
      "(2)\n",
      "4.5 out of 5\n",
      "200\n",
      "Turrella 70.9 in. White Gold Extra Long Console Table, Narrow Behind Sofa Couch Table Skinny Entryway Table\n",
      "\n",
      "\n",
      "Write the first Review\n"
     ]
    }
   ],
   "source": [
    "ii=4\n",
    "for i in list(range(321898040,321898040+ii)):\n",
    "    base_url = f'https://www.homedepot.com/p/{i}'\n",
    "    res = requests.get(base_url,headers=headers)\n",
    "    print(res.status_code)\n",
    "    content     = BeautifulSoup(res.content,'html.parser')\n",
    "    print(content.find('div','product-details__badge-title--wrapper').text)\n",
    "    print(content.find('a','product-details__rating-container').get_text())\n",
    "    print(content.find('a','product-details__rating-container').get_text())\n",
    "    print(re.search(r'title=\"([^\"]+)\"', str(content.find('a','product-details__rating-container'))).group(1))"
   ]
  },
  {
   "cell_type": "code",
   "execution_count": null,
   "id": "67ededf4-1cac-42de-9f82-1831421f8632",
   "metadata": {},
   "outputs": [],
   "source": [
    "base_url = 'https://www.homedepot.com/p/32189805'\n",
    "res = requests.get(base_url,headers=headers)\n",
    "res.status_code"
   ]
  },
  {
   "cell_type": "code",
   "execution_count": null,
   "id": "0f7cbfa3-3013-435d-9323-6771a29be457",
   "metadata": {},
   "outputs": [],
   "source": []
  },
  {
   "cell_type": "code",
   "execution_count": null,
   "id": "4f6078eb-d4d1-458a-b3b7-694f3e9e4f78",
   "metadata": {},
   "outputs": [],
   "source": []
  },
  {
   "cell_type": "code",
   "execution_count": null,
   "id": "68b1637c-6ae3-462a-a322-77c105ef6978",
   "metadata": {},
   "outputs": [],
   "source": []
  },
  {
   "cell_type": "code",
   "execution_count": null,
   "id": "cd000561-910f-4bf6-a9aa-71f703c27bb3",
   "metadata": {},
   "outputs": [],
   "source": []
  },
  {
   "cell_type": "markdown",
   "id": "d5893ea3-d2cf-4ff3-918d-cf3fdc97d4d7",
   "metadata": {},
   "source": [
    "#### driver"
   ]
  },
  {
   "cell_type": "markdown",
   "id": "09c3e184-c34d-4550-aab5-034c2b10117c",
   "metadata": {},
   "source": [
    "```bash\n",
    "from selenium.webdriver.chrome.options import Options\n",
    "options = Options()\n",
    "options.add_argument(\"--incognito\")\n",
    "\n",
    "\n",
    "# driver = webdriver.Chrome(options=options)\n",
    "driver = webdriver.Chrome()\n",
    "# driver.maximize_window()\n",
    "driver.get(url='https://www.homedepot.com/p/321898041')\n",
    "# zip_code = driver.find_element(By.ID, 'deliveryZipInput')\n",
    "# zip_code.send_keys(96921)\n",
    "# update_zip_button = driver.find_element(By.ID, 'deliveryZipUpdateButton')\n",
    "# update_zip_button\n",
    "\n",
    "element=driver.find_element(By.ID, 'ratings-and-reviews-accordion-title') \n",
    "webdriver.ActionChains(driver).move_to_element(element).click().perform()\n",
    "time.sleep(3)\n",
    "driver.page_source\n",
    "wait = WebDriverWait(driver, 5)\n",
    "wait.until(EC.visibility_of_element_located((By.CLASS_NAME, 'accordion-body--6rxdg accordion-body--expanded--6rxdg')))\n",
    "# hovered_html = driver.page_source\n",
    "# time.sleep(3)\n",
    "\n",
    "# class=\"grid accordion-body__wrapper--6rxdg\"\n",
    "# driver.find_elements(By.CLASS_NAME,'')\n",
    "\n",
    "ele = driver.find_elements(By.ID,'ratings-and-reviews')\n",
    "# print(f\"total number of reviews : {re.search(r'(\\d+)\\s+reviews',ele[0].text).group(1)}\")\n",
    "\n",
    "reviews_pattern = re.compile(r\"out of 15 reviews\\n(.*?)Write a Review\", re.DOTALL)\n",
    "text =reviews_pattern.findall(ele[0].text)[0].strip()\n",
    "\n",
    "print([l for idx, l in enumerate(text.splitlines()[1:]) if idx % 2 == 1])\n",
    "print([l for idx, l in enumerate(text.splitlines()[1:]) if idx % 2 == 0])\n",
    "\n",
    "driver.quit()\n",
    "```"
   ]
  },
  {
   "cell_type": "code",
   "execution_count": null,
   "id": "d4c6e63a-550e-44c9-b06e-0b38cdb9a901",
   "metadata": {},
   "outputs": [],
   "source": []
  }
 ],
 "metadata": {
  "kernelspec": {
   "display_name": "Python 3 (ipykernel)",
   "language": "python",
   "name": "python3"
  },
  "language_info": {
   "codemirror_mode": {
    "name": "ipython",
    "version": 3
   },
   "file_extension": ".py",
   "mimetype": "text/x-python",
   "name": "python",
   "nbconvert_exporter": "python",
   "pygments_lexer": "ipython3",
   "version": "3.11.4"
  }
 },
 "nbformat": 4,
 "nbformat_minor": 5
}
