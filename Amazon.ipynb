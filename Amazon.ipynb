{
 "cells": [
  {
   "cell_type": "code",
   "execution_count": 4,
   "id": "6893a241-ef09-4223-b5c3-70a92852bb06",
   "metadata": {},
   "outputs": [],
   "source": [
    "import requests\n",
    "from bs4 import BeautifulSoup"
   ]
  },
  {
   "cell_type": "code",
   "execution_count": 13,
   "id": "7c211337-f225-4069-9d8c-89524de157df",
   "metadata": {},
   "outputs": [],
   "source": [
    "headers = {\n",
    "        'dnt': '1',\n",
    "        'upgrade-insecure-requests': '1',\n",
    "        'user-agent': 'Mozilla/5.0 (Macintosh; Intel Mac OS X 10_15_4) AppleWebKit/537.36 (KHTML, like Gecko) Chrome/83.0.4103.61 Safari/537.36',\n",
    "        'accept': 'text/html,application/xhtml+xml,application/xml;q=0.9,image/webp,image/apng,*/*;q=0.8,application/signed-exchange;v=b3;q=0.9',\n",
    "        'sec-fetch-site': 'same-origin',\n",
    "        'sec-fetch-mode': 'navigate',\n",
    "        'sec-fetch-user': '?1',\n",
    "        'sec-fetch-dest': 'document',\n",
    "        'referer': 'https://www.amazon.com/',\n",
    "        'accept-language': 'en-GB,en-US;q=0.9,en;q=0.8',\n",
    "    }\n",
    "\n",
    "\n",
    "# url = 'https://www.amazon.com/BLACK-DECKER-POWERSERIES-Cordless-BHFEB520D1/dp/B0BW1CH8RV/?_encoding=UTF8&_ref=dlx_gate_sd_dcl_tlt_fdc2f110_dt&pd_rd_w=QRHyV&content-id=amzn1.sym.2ed7d12d-4886-42ac-ae8f-d4dd936eb1e6&pf_rd_p=2ed7d12d-4886-42ac-ae8f-d4dd936eb1e6&pf_rd_r=JRM6C9XJKD0F56RFE6M9&pd_rd_wg=4mU4Z&pd_rd_r=52757c71-3bee-4f33-bcf3-95ad870760a8&ref_=pd_gw_unk'\n",
    "url = 'https://www.amazon.com/dp/B07SMJJTL7'\n",
    "r = requests.get(url, headers=headers)\n"
   ]
  },
  {
   "cell_type": "code",
   "execution_count": 14,
   "id": "23f6ceae-f8f0-43da-b50a-93c54fcf20d6",
   "metadata": {},
   "outputs": [
    {
     "data": {
      "text/plain": [
       "200"
      ]
     },
     "execution_count": 14,
     "metadata": {},
     "output_type": "execute_result"
    }
   ],
   "source": [
    "r.status_code"
   ]
  },
  {
   "cell_type": "code",
   "execution_count": 15,
   "id": "eef33d4c-d272-4325-adc2-1b035abf199f",
   "metadata": {},
   "outputs": [],
   "source": [
    "soup = BeautifulSoup(r.content,'html.parser')"
   ]
  },
  {
   "cell_type": "code",
   "execution_count": 16,
   "id": "87ff4125-6231-45e4-985d-72063c5158f0",
   "metadata": {},
   "outputs": [
    {
     "data": {
      "text/plain": [
       "<div data-asin=\"B07SMJJTL7\" data-ref=\"dpx_acr_pop_\" id=\"averageCustomerReviews\">\n",
       "<span class=\"a-declarative\" data-acrstarslink-click-metrics=\"{}\" data-action=\"acrStarsLink-click-metrics\" data-csa-c-func-deps=\"aui-da-acrStarsLink-click-metrics\" data-csa-c-type=\"widget\"> <span class=\"reviewCountTextLinkedHistogram noUnderline\" id=\"acrPopover\" title=\"4.1 out of 5 stars\">\n",
       "<span class=\"a-declarative\" data-a-popover='{\"max-width\":\"700\",\"closeButton\":\"false\",\"name\":\"star_ratings_popover\",\"position\":\"triggerBottom\",\"url\":\"/gp/customer-reviews/widgets/average-customer-review/popover/ref=dpx_acr_pop_?contextId=dpx&amp;asin=B07SMJJTL7\"}' data-action=\"a-popover\" data-csa-c-func-deps=\"aui-da-a-popover\" data-csa-c-type=\"widget\"> <a class=\"a-popover-trigger a-declarative\" href=\"javascript:void(0)\" role=\"button\"> <span class=\"a-size-base a-color-base\"> 4.1 </span> <i class=\"a-icon a-icon-star a-star-4 cm-cr-review-stars-spacing-big\"><span class=\"a-icon-alt\">4.1 out of 5 stars</span></i> <i class=\"a-icon a-icon-popover\"></i></a> </span> <span class=\"a-letter-space\"></span> </span>\n",
       "</span> <span class=\"a-letter-space\"></span> <span class=\"a-declarative\" data-acrlink-click-metrics=\"{}\" data-action=\"acrLink-click-metrics\" data-csa-c-func-deps=\"aui-da-acrLink-click-metrics\" data-csa-c-type=\"widget\"> <a class=\"a-link-normal\" href=\"#customerReviews\" id=\"acrCustomerReviewLink\"> <span class=\"a-size-base\" id=\"acrCustomerReviewText\">25,712 ratings</span> </a> </span> <script type=\"text/javascript\">\n",
       "                    \n",
       "                    var dpAcrHasRegisteredArcLinkClickAction;\n",
       "                    P.when('A', 'ready').execute(function(A) {\n",
       "                        if (dpAcrHasRegisteredArcLinkClickAction !== true) {\n",
       "                            dpAcrHasRegisteredArcLinkClickAction = true;\n",
       "                            A.declarative(\n",
       "                                'acrLink-click-metrics', 'click',\n",
       "                                { \"allowLinkDefault\": true },\n",
       "                                function (event) {\n",
       "                                    if (window.ue) {\n",
       "                                        ue.count(\"acrLinkClickCount\", (ue.count(\"acrLinkClickCount\") || 0) + 1);\n",
       "                                    }\n",
       "                                }\n",
       "                            );\n",
       "                        }\n",
       "                    });\n",
       "                </script>\n",
       "<script type=\"text/javascript\">\n",
       "            P.when('A', 'cf').execute(function(A) {\n",
       "                A.declarative('acrStarsLink-click-metrics', 'click', { \"allowLinkDefault\" : true },  function(event){\n",
       "                    if(window.ue) {\n",
       "                        ue.count(\"acrStarsLinkWithPopoverClickCount\", (ue.count(\"acrStarsLinkWithPopoverClickCount\") || 0) + 1);\n",
       "                    }\n",
       "                });\n",
       "            });\n",
       "        </script>\n",
       "</div>"
      ]
     },
     "execution_count": 16,
     "metadata": {},
     "output_type": "execute_result"
    }
   ],
   "source": [
    "soup.find('div',id='averageCustomerReviews')"
   ]
  },
  {
   "cell_type": "code",
   "execution_count": 17,
   "id": "7bb089a1-bd15-4fc0-bd22-0eac375b2511",
   "metadata": {},
   "outputs": [
    {
     "data": {
      "text/plain": [
       "<div class=\"a-section a-spacing-micro\"> <span class=\"a-price aok-align-center\" data-a-color=\"base\" data-a-size=\"xl\"><span class=\"a-offscreen\">$154.99</span><span aria-hidden=\"true\"><span class=\"a-price-symbol\">$</span><span class=\"a-price-whole\">154<span class=\"a-price-decimal\">.</span></span><span class=\"a-price-fraction\">99</span></span></span> <span class=\"a-size-mini a-color-base aok-align-center aok-nowrap\" id=\"taxInclusiveMessage\"> </span> </div>"
      ]
     },
     "execution_count": 17,
     "metadata": {},
     "output_type": "execute_result"
    }
   ],
   "source": [
    "soup.find('div',class_='a-section a-spacing-micro')"
   ]
  },
  {
   "cell_type": "code",
   "execution_count": null,
   "id": "9c80e8bf-32cd-45ae-a0a1-7c3941485414",
   "metadata": {},
   "outputs": [],
   "source": []
  },
  {
   "cell_type": "code",
   "execution_count": null,
   "id": "39bd8720-fc2a-45ae-835d-1dd0d9fb5f90",
   "metadata": {},
   "outputs": [],
   "source": []
  },
  {
   "cell_type": "code",
   "execution_count": null,
   "id": "df46fa21-8637-42ee-8d5d-f66391b6a42d",
   "metadata": {},
   "outputs": [],
   "source": []
  },
  {
   "cell_type": "code",
   "execution_count": null,
   "id": "8c288d09-cc03-4fae-9caf-39573e41b209",
   "metadata": {},
   "outputs": [],
   "source": []
  },
  {
   "cell_type": "code",
   "execution_count": 1,
   "id": "ad9b1b97-2823-4145-a8ae-cc5799fb44a9",
   "metadata": {},
   "outputs": [],
   "source": [
    "from selenium import webdriver\n",
    "from selenium.webdriver.common.by import By\n",
    "from selenium.webdriver.chrome.options import Options\n",
    "from amazoncaptcha import AmazonCaptcha"
   ]
  },
  {
   "cell_type": "code",
   "execution_count": 2,
   "id": "5c26febd-f9cb-45ca-aaee-e4a6392b3aa2",
   "metadata": {},
   "outputs": [
    {
     "data": {
      "text/plain": [
       "'https://www.amazon.com/dp/B093B59MGM'"
      ]
     },
     "execution_count": 2,
     "metadata": {},
     "output_type": "execute_result"
    }
   ],
   "source": [
    "asin = 'B093B59MGM'\n",
    "URL = 'https://www.amazon.com/dp/' + asin\n",
    "URL"
   ]
  },
  {
   "cell_type": "code",
   "execution_count": 12,
   "id": "f1bee702-9138-462c-954f-cb832daf51ef",
   "metadata": {},
   "outputs": [],
   "source": [
    "test_ua = 'Mozilla/5.0 (Windows NT 4.0; WOW64) AppleWebKit/537.36 (KHTML, like Gecko) Chrome/37.0.2049.0 Safari/537.36'\n",
    "options = Options()\n",
    "\n",
    "# options.add_argument(\"--headless\")  # Remove this if you want to see the browser (Headless makes the chromedriver not have a GUI)\n",
    "options.add_argument(\"--window-size=1920,1080\")\n",
    "options.add_argument(f'--user-agent={test_ua}')\n",
    "options.add_argument('--no-sandbox')\n",
    "options.add_argument(\"--disable-extensions\")\n",
    "\n",
    "driver = webdriver.Chrome(options=options)\n",
    "\n",
    "\n",
    "driver.get(URL)\n",
    "driver.implicitly_wait(50)"
   ]
  },
  {
   "cell_type": "code",
   "execution_count": 13,
   "id": "c5007ef6-210b-4422-8414-42d4e4f8ec0e",
   "metadata": {},
   "outputs": [
    {
     "name": "stderr",
     "output_type": "stream",
     "text": [
      "\n",
      "KeyboardInterrupt\n",
      "\n"
     ]
    }
   ],
   "source": [
    "driver.find_element(By.XPATH, '/html/body/div/div[1]/div[3]/div/div/form/div[1]/div/div/div[1]/img')"
   ]
  },
  {
   "cell_type": "code",
   "execution_count": 8,
   "id": "41a9e954-11c9-4692-b7cc-a0526340faa9",
   "metadata": {},
   "outputs": [
    {
     "name": "stderr",
     "output_type": "stream",
     "text": [
      "\n",
      "KeyboardInterrupt\n",
      "\n"
     ]
    }
   ],
   "source": [
    "\n",
    "image = driver.find_element(By.XPATH, '/html/body/div/div[1]/div[3]/div/div/form/div[1]/div/div/div[1]/img')\n",
    "image_link = image.get_attribute('src')\n",
    "captcha = AmazonCaptcha.fromlink(image_link)\n",
    "solution = captcha.solve(keep_logs=True)\n",
    "print(solution)\n",
    "TFF = driver.find_element(By.XPATH, '//*[@id=\"captchacharacters\"]')\n",
    "TFF.send_keys(solution)\n",
    "\n",
    "\n",
    "\n",
    "button = driver.find_element(By.XPATH, '/html/body/div/div[1]/div[3]/div/div/form/div[2]/div/span/span/button')\n",
    "    button.click()\n",
    "    #//*[@id=\"captchacharacters\"]\n",
    "    #/html/body/div/div[1]/div[3]/div/div/form/div[2]/div/span/span/button\n",
    "\n",
    "\n",
    "    title_element = driver.find_element(By.ID, 'productTitle')\n",
    "    title = title_element.text.strip()\n",
    "    photo_element = driver.find_element(By.ID, 'landingImage')\n",
    "    photo_url = photo_element.get_attribute('src')\n",
    "    price_element = driver.find_element(By.CSS_SELECTOR, '.a-price[data-a-size=b], .a-price[data-a-size=xl]')\n",
    "    price = price_element.text.strip()\n",
    "    Brand_element = driver.find_element(By.XPATH, '//*[@id=\"bylineInfo\"]')\n",
    "    brand_text = Brand_element.text.strip()\n",
    "    if 'Brand:' in brand_text:\n",
    "        index_brand = brand_text.index(\"Brand:\")\n",
    "        brand=brand_text[index_brand + 1:]\n",
    "    else:\n",
    "        start_index = brand_text.find('the') + len('the') + 1\n",
    "        end_index = brand_text.find('Store') - 1\n",
    "        brand = brand_text[start_index:end_index].strip()\n",
    "    try:\n",
    "        table_element = driver.find_element(By.ID, 'productDetails_detailBullets_sections1')\n",
    "    except:\n",
    "        try:\n",
    "            table_element = driver.find_element(By.ID, 'productDetails_db_sections')\n",
    "        except:\n",
    "            return None\n",
    "    rows = table_element.find_elements(By.TAG_NAME, 'tr')\n",
    "    for row in rows:\n",
    "        if \"Best Sellers Rank\" in row.text:\n",
    "            best_seller_rank_element = row.find_element(By.TAG_NAME, 'td')\n",
    "            BSR = best_seller_rank_element.text.strip()\n",
    "\n",
    "    Star5_element=driver.find_element(By.XPATH,'//*[@id=\"histogramTable\"]/tbody/tr[1]/td[3]')\n",
    "    Star5=Star5_element.text.strip()\n",
    "    Star4_element=driver.find_element(By.XPATH,'//*[@id=\"histogramTable\"]/tbody/tr[2]/td[3]/span[2]')\n",
    "    Star4=Star4_element.text.strip()\n",
    "    Star3_element=driver.find_element(By.XPATH,'//*[@id=\"histogramTable\"]/tbody/tr[3]/td[3]/span[2]')\n",
    "    Star3=Star3_element.text.strip()\n",
    "    Star2_element=driver.find_element(By.XPATH,'//*[@id=\"histogramTable\"]/tbody/tr[4]/td[3]/span[2]')\n",
    "    Star2=Star2_element.text.strip()\n",
    "    Star1_element=driver.find_element(By.XPATH,'//*[@id=\"histogramTable\"]/tbody/tr[5]/td[3]/span[2]')\n",
    "    Star1=Star1_element.text.strip()\n",
    "    product_info = {\n",
    "        'title': title,\n",
    "        'photo_url': photo_url,\n",
    "        'price': price,\n",
    "        'Brand': brand,\n",
    "        'BSR': BSR,\n",
    "        'Star5':Star5,\n",
    "        'Star4':Star4,\n",
    "        'Star3': Star3,\n",
    "        'Star2':Star2,\n",
    "        'Star1':Star1\n",
    "    }\n",
    "    for key, value in product_info.items():\n",
    "        print(f\"{key}: {value}\")"
   ]
  },
  {
   "cell_type": "code",
   "execution_count": null,
   "id": "09b9cba3-0737-43f7-a9f0-fc846d2c8564",
   "metadata": {},
   "outputs": [],
   "source": []
  }
 ],
 "metadata": {
  "kernelspec": {
   "display_name": "Python 3 (ipykernel)",
   "language": "python",
   "name": "python3"
  },
  "language_info": {
   "codemirror_mode": {
    "name": "ipython",
    "version": 3
   },
   "file_extension": ".py",
   "mimetype": "text/x-python",
   "name": "python",
   "nbconvert_exporter": "python",
   "pygments_lexer": "ipython3",
   "version": "3.11.4"
  }
 },
 "nbformat": 4,
 "nbformat_minor": 5
}
