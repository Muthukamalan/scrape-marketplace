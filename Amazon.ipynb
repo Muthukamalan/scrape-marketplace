{
 "cells": [
  {
   "cell_type": "code",
   "execution_count": 4,
   "id": "6893a241-ef09-4223-b5c3-70a92852bb06",
   "metadata": {},
   "outputs": [],
   "source": [
    "import requests\n",
    "from bs4 import BeautifulSoup"
   ]
  },
  {
   "cell_type": "code",
   "execution_count": 2,
   "id": "7c211337-f225-4069-9d8c-89524de157df",
   "metadata": {},
   "outputs": [],
   "source": [
    "headers = {\n",
    "        'dnt': '1',\n",
    "        'upgrade-insecure-requests': '1',\n",
    "        'user-agent': 'Mozilla/5.0 (Macintosh; Intel Mac OS X 10_15_4) AppleWebKit/537.36 (KHTML, like Gecko) Chrome/83.0.4103.61 Safari/537.36',\n",
    "        'accept': 'text/html,application/xhtml+xml,application/xml;q=0.9,image/webp,image/apng,*/*;q=0.8,application/signed-exchange;v=b3;q=0.9',\n",
    "        'sec-fetch-site': 'same-origin',\n",
    "        'sec-fetch-mode': 'navigate',\n",
    "        'sec-fetch-user': '?1',\n",
    "        'sec-fetch-dest': 'document',\n",
    "        'referer': 'https://www.amazon.com/',\n",
    "        'accept-language': 'en-GB,en-US;q=0.9,en;q=0.8',\n",
    "    }\n",
    "\n",
    "\n",
    "url = 'https://www.amazon.com/BLACK-DECKER-POWERSERIES-Cordless-BHFEB520D1/dp/B0BW1CH8RV/?_encoding=UTF8&_ref=dlx_gate_sd_dcl_tlt_fdc2f110_dt&pd_rd_w=QRHyV&content-id=amzn1.sym.2ed7d12d-4886-42ac-ae8f-d4dd936eb1e6&pf_rd_p=2ed7d12d-4886-42ac-ae8f-d4dd936eb1e6&pf_rd_r=JRM6C9XJKD0F56RFE6M9&pd_rd_wg=4mU4Z&pd_rd_r=52757c71-3bee-4f33-bcf3-95ad870760a8&ref_=pd_gw_unk'\n",
    "r = requests.get(url, headers=headers)\n"
   ]
  },
  {
   "cell_type": "code",
   "execution_count": 3,
   "id": "23f6ceae-f8f0-43da-b50a-93c54fcf20d6",
   "metadata": {},
   "outputs": [
    {
     "data": {
      "text/plain": [
       "200"
      ]
     },
     "execution_count": 3,
     "metadata": {},
     "output_type": "execute_result"
    }
   ],
   "source": [
    "r.status_code"
   ]
  },
  {
   "cell_type": "code",
   "execution_count": 5,
   "id": "eef33d4c-d272-4325-adc2-1b035abf199f",
   "metadata": {},
   "outputs": [],
   "source": [
    "soup = BeautifulSoup(r.content,'html.parser')"
   ]
  },
  {
   "cell_type": "code",
   "execution_count": 11,
   "id": "87ff4125-6231-45e4-985d-72063c5158f0",
   "metadata": {},
   "outputs": [
    {
     "data": {
      "text/plain": [
       "<div data-asin=\"B0BW1CH8RV\" data-ref=\"dpx_acr_pop_\" id=\"averageCustomerReviews\">\n",
       "<span class=\"a-declarative\" data-acrstarslink-click-metrics=\"{}\" data-action=\"acrStarsLink-click-metrics\" data-csa-c-func-deps=\"aui-da-acrStarsLink-click-metrics\" data-csa-c-type=\"widget\"> <span class=\"reviewCountTextLinkedHistogram noUnderline\" id=\"acrPopover\" title=\"4.3 out of 5 stars\">\n",
       "<span class=\"a-declarative\" data-a-popover='{\"max-width\":\"700\",\"closeButton\":\"false\",\"name\":\"star_ratings_popover\",\"position\":\"triggerBottom\",\"url\":\"/gp/customer-reviews/widgets/average-customer-review/popover/ref=dpx_acr_pop_?contextId=dpx&amp;asin=B0BW1CH8RV\"}' data-action=\"a-popover\" data-csa-c-func-deps=\"aui-da-a-popover\" data-csa-c-type=\"widget\"> <a class=\"a-popover-trigger a-declarative\" href=\"javascript:void(0)\" role=\"button\"> <span class=\"a-size-base a-color-base\"> 4.3 </span> <i class=\"a-icon a-icon-star a-star-4-5 cm-cr-review-stars-spacing-big\"><span class=\"a-icon-alt\">4.3 out of 5 stars</span></i> <i class=\"a-icon a-icon-popover\"></i></a> </span> <span class=\"a-letter-space\"></span> </span>\n",
       "</span> <span class=\"a-letter-space\"></span> <span class=\"a-declarative\" data-acrlink-click-metrics=\"{}\" data-action=\"acrLink-click-metrics\" data-csa-c-func-deps=\"aui-da-acrLink-click-metrics\" data-csa-c-type=\"widget\"> <a class=\"a-link-normal\" href=\"#customerReviews\" id=\"acrCustomerReviewLink\"> <span class=\"a-size-base\" id=\"acrCustomerReviewText\">32 ratings</span> </a> </span> <script type=\"text/javascript\">\n",
       "                    \n",
       "                    var dpAcrHasRegisteredArcLinkClickAction;\n",
       "                    P.when('A', 'ready').execute(function(A) {\n",
       "                        if (dpAcrHasRegisteredArcLinkClickAction !== true) {\n",
       "                            dpAcrHasRegisteredArcLinkClickAction = true;\n",
       "                            A.declarative(\n",
       "                                'acrLink-click-metrics', 'click',\n",
       "                                { \"allowLinkDefault\": true },\n",
       "                                function (event) {\n",
       "                                    if (window.ue) {\n",
       "                                        ue.count(\"acrLinkClickCount\", (ue.count(\"acrLinkClickCount\") || 0) + 1);\n",
       "                                    }\n",
       "                                }\n",
       "                            );\n",
       "                        }\n",
       "                    });\n",
       "                </script>\n",
       "<script type=\"text/javascript\">\n",
       "            P.when('A', 'cf').execute(function(A) {\n",
       "                A.declarative('acrStarsLink-click-metrics', 'click', { \"allowLinkDefault\" : true },  function(event){\n",
       "                    if(window.ue) {\n",
       "                        ue.count(\"acrStarsLinkWithPopoverClickCount\", (ue.count(\"acrStarsLinkWithPopoverClickCount\") || 0) + 1);\n",
       "                    }\n",
       "                });\n",
       "            });\n",
       "        </script>\n",
       "</div>"
      ]
     },
     "execution_count": 11,
     "metadata": {},
     "output_type": "execute_result"
    }
   ],
   "source": [
    "soup.find('div',id='averageCustomerReviews')"
   ]
  },
  {
   "cell_type": "code",
   "execution_count": 12,
   "id": "7bb089a1-bd15-4fc0-bd22-0eac375b2511",
   "metadata": {},
   "outputs": [
    {
     "data": {
      "text/plain": [
       "<div class=\"a-section a-spacing-micro\"> <span class=\"a-price aok-align-center\" data-a-color=\"base\" data-a-size=\"xl\"><span class=\"a-offscreen\">$169.00</span><span aria-hidden=\"true\"><span class=\"a-price-symbol\">$</span><span class=\"a-price-whole\">169<span class=\"a-price-decimal\">.</span></span><span class=\"a-price-fraction\">00</span></span></span> <span class=\"a-size-mini a-color-base aok-align-center aok-nowrap\" id=\"taxInclusiveMessage\"> </span> </div>"
      ]
     },
     "execution_count": 12,
     "metadata": {},
     "output_type": "execute_result"
    }
   ],
   "source": [
    "soup.find('div',class_='a-section a-spacing-micro')"
   ]
  },
  {
   "cell_type": "code",
   "execution_count": null,
   "id": "9c80e8bf-32cd-45ae-a0a1-7c3941485414",
   "metadata": {},
   "outputs": [],
   "source": []
  }
 ],
 "metadata": {
  "kernelspec": {
   "display_name": "Python 3 (ipykernel)",
   "language": "python",
   "name": "python3"
  },
  "language_info": {
   "codemirror_mode": {
    "name": "ipython",
    "version": 3
   },
   "file_extension": ".py",
   "mimetype": "text/x-python",
   "name": "python",
   "nbconvert_exporter": "python",
   "pygments_lexer": "ipython3",
   "version": "3.11.4"
  }
 },
 "nbformat": 4,
 "nbformat_minor": 5
}
