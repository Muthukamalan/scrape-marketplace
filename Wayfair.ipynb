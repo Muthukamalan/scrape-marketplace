{
 "cells": [
  {
   "cell_type": "code",
   "execution_count": 1,
   "id": "d63a3108-8c0b-4842-a80b-30289ee73227",
   "metadata": {},
   "outputs": [],
   "source": [
    "import json\n",
    "import time\n",
    "import re\n",
    "import os\n",
    "import glob\n",
    "\n",
    "from urllib.parse import urljoin\n",
    "from bs4 import BeautifulSoup\n",
    "import requests\n",
    "from selenium import webdriver\n",
    "from selenium.webdriver.common.by import By\n",
    "from selenium.webdriver.support.ui import WebDriverWait\n",
    "from selenium.webdriver.support import expected_conditions as EC\n",
    "from selenium.common.exceptions import TimeoutException,WebDriverException\n",
    "from selenium.webdriver.chrome.options import Options\n",
    "from selenium.webdriver.support.ui import Select\n",
    "\n",
    "import numpy as np\n",
    "import pandas as pd\n",
    "import plotly.express as px\n",
    "import plotly.graph_objects as go\n",
    "import matplotlib\n",
    "import matplotlib.pyplot as plt\n",
    "import seaborn as sns\n",
    "import plotly"
   ]
  },
  {
   "cell_type": "code",
   "execution_count": 2,
   "id": "d25d6f8d-b9e1-4e1f-90da-274ffec5000b",
   "metadata": {},
   "outputs": [
    {
     "data": {
      "text/plain": [
       "['https://www.wayfair.com/decor-pillows/pdp/gracie-oaks-kaehi-brushed-nickel-mirror-wall-mirror-w008667613.html',\n",
       " 'https://www.wayfair.com/furniture/pdp/ebern-designs-corner-tv-stand-for-50-tv-modern-living-room-with-storage-space-low-profile-tv-cabinet-w010361605.html',\n",
       " 'https://www.wayfair.com/furniture/pdp/latitude-run-garysburg-solid-wood-5-drawer-accent-chest-w007680564.html']"
      ]
     },
     "execution_count": 2,
     "metadata": {},
     "output_type": "execute_result"
    }
   ],
   "source": [
    "lst_uls = [\n",
    "    'https://www.wayfair.com/decor-pillows/pdp/gracie-oaks-kaehi-brushed-nickel-mirror-wall-mirror-w008667613.html',  \n",
    "    \n",
    "    'https://www.wayfair.com/furniture/pdp/ebern-designs-corner-tv-stand-for-50-tv-modern-living-room-with-storage-space-low-profile-tv-cabinet-w010361605.html',  \n",
    "    \n",
    "    'https://www.wayfair.com/furniture/pdp/latitude-run-garysburg-solid-wood-5-drawer-accent-chest-w007680564.html'\n",
    "    \n",
    "]\n",
    "lst_uls"
   ]
  },
  {
   "cell_type": "code",
   "execution_count": null,
   "id": "9015a0fd-6fb5-4043-b096-110cdf73c2ed",
   "metadata": {},
   "outputs": [],
   "source": []
  },
  {
   "cell_type": "code",
   "execution_count": 2,
   "id": "5cc57749-21da-40ee-8af1-15720791b4e4",
   "metadata": {},
   "outputs": [
    {
     "data": {
      "text/plain": [
       "['https://www.wayfair.com/outdoor/pdp/ebern-designs-planter-on-stand-ceramic-planter-on-wooden-stand-contemporary-ivorybeige-gradient-design-indoor-or-outdoor-plant-stand-decor-w004578330.html?piid=985442586',\n",
       " 'https://www.wayfair.com/outdoor/pdp/dakota-fields-ceramic-planter-on-bamboo-wood-stand-plant-stand-with-contemporary-dotted-design-indoor-or-outdoor-plants-and-succulents-w003023309.html?piid=1195818433%2C1195776358',\n",
       " 'https://www.wayfair.com/outdoor/pdp/wrought-studio-elayna-2-piece-ceramic-pot-planter-set-w005313805.html?piid=228007296']"
      ]
     },
     "execution_count": 2,
     "metadata": {},
     "output_type": "execute_result"
    }
   ],
   "source": [
    "lst_urls = [\n",
    "    'https://www.wayfair.com/outdoor/pdp/ebern-designs-planter-on-stand-ceramic-planter-on-wooden-stand-contemporary-ivorybeige-gradient-design-indoor-or-outdoor-plant-stand-decor-w004578330.html?piid=985442586',\n",
    "    'https://www.wayfair.com/outdoor/pdp/dakota-fields-ceramic-planter-on-bamboo-wood-stand-plant-stand-with-contemporary-dotted-design-indoor-or-outdoor-plants-and-succulents-w003023309.html?piid=1195818433%2C1195776358',\n",
    "    'https://www.wayfair.com/outdoor/pdp/wrought-studio-elayna-2-piece-ceramic-pot-planter-set-w005313805.html?piid=228007296'\n",
    "]\n",
    "lst_urls"
   ]
  },
  {
   "cell_type": "code",
   "execution_count": null,
   "id": "6065c0cb-a196-4d93-907e-3e2fc729fd14",
   "metadata": {},
   "outputs": [],
   "source": []
  },
  {
   "cell_type": "code",
   "execution_count": null,
   "id": "9b001faf-0c4b-42c9-8634-a8708d15cc93",
   "metadata": {
    "scrolled": true
   },
   "outputs": [],
   "source": [
    "options = Options()\n",
    "# options.add_argument(\"--incognito\")\n",
    "options.add_argument(\"--disable-geolocation\")\n",
    "options.add_argument('--no-sandbox')\n",
    "options.add_argument(\"--disable-extensions\")\n",
    "\n",
    "base_url = 'https://www.wayfair.com/outdoor/pdp/ebern-designs-planter-on-stand-ceramic-planter-on-wooden-stand-contemporary-ivorybeige-gradient-design-indoor-or-outdoor-plant-stand-decor-w004578330.html?piid=985442586'\n",
    "\n",
    "header =  'Mozilla/5.0 (Windows NT 10.0; Win64; x64) AppleWebKit/537.36 (KHTML, like Gecko) Chrome/91.0.4472.124 Safari/537.36'\n",
    "options.add_argument(f'--user-agent={header}')\n",
    "\n",
    "\n",
    "normal_driver = webdriver.Chrome(options=options)\n",
    "\n",
    "solver = RecaptchaSolver(driver=normal_driver)\n",
    "# driver = webdriver.Chrome()\n",
    "driver.maximize_window()\n",
    "normal_driver.get(url=base_url)"
   ]
  },
  {
   "cell_type": "code",
   "execution_count": null,
   "id": "994ee658-54f4-4d3e-8538-64681db34cd1",
   "metadata": {},
   "outputs": [],
   "source": []
  },
  {
   "cell_type": "code",
   "execution_count": null,
   "id": "8cf3d5fd-fb4e-4241-b238-91d07e686c7a",
   "metadata": {},
   "outputs": [],
   "source": []
  },
  {
   "cell_type": "code",
   "execution_count": null,
   "id": "a697d852-2513-43cc-a821-5cb17ae8c903",
   "metadata": {},
   "outputs": [],
   "source": []
  },
  {
   "cell_type": "code",
   "execution_count": null,
   "id": "80bd3ed0-b35b-4678-a443-1c941083162b",
   "metadata": {},
   "outputs": [],
   "source": []
  },
  {
   "cell_type": "code",
   "execution_count": null,
   "id": "cc114478-39bb-438d-97f8-5ca62577e5b4",
   "metadata": {},
   "outputs": [],
   "source": []
  },
  {
   "cell_type": "code",
   "execution_count": null,
   "id": "907ca02a-70db-4cc3-a155-af11dd488ebc",
   "metadata": {},
   "outputs": [],
   "source": []
  },
  {
   "cell_type": "code",
   "execution_count": null,
   "id": "a22a1f03-ce14-4d5c-885d-413a9f27aac5",
   "metadata": {},
   "outputs": [],
   "source": [
    "captacha_box = driver.find_element(By.CLASS_NAME,\"px-captcha-container\")\n",
    "captacha_box"
   ]
  },
  {
   "cell_type": "code",
   "execution_count": null,
   "id": "a49d1529-eb5e-4d58-b019-065a983db50d",
   "metadata": {},
   "outputs": [],
   "source": [
    "captacha_box.text"
   ]
  },
  {
   "cell_type": "code",
   "execution_count": null,
   "id": "b2380355-64d6-4e19-990f-2c7b615a3f79",
   "metadata": {},
   "outputs": [],
   "source": []
  },
  {
   "cell_type": "code",
   "execution_count": null,
   "id": "d2d9d0a4-ea9d-42a3-bae8-2858bff4b317",
   "metadata": {},
   "outputs": [],
   "source": []
  },
  {
   "cell_type": "code",
   "execution_count": null,
   "id": "e6bdf750-5760-43df-a98c-2caf1bd33c47",
   "metadata": {},
   "outputs": [],
   "source": []
  },
  {
   "cell_type": "markdown",
   "id": "19bba76a-44a5-46f3-9d10-2974c314f7bc",
   "metadata": {},
   "source": [
    "<a class=\"rc-audiochallenge-tdownload-link\">Audio MP3 LInk</a>"
   ]
  },
  {
   "cell_type": "code",
   "execution_count": null,
   "id": "cc2493ba-8d0e-41c7-882a-e84c78319d8c",
   "metadata": {},
   "outputs": [],
   "source": [
    "driver.close()\n",
    "driver.quit()"
   ]
  },
  {
   "cell_type": "code",
   "execution_count": null,
   "id": "4b87e2ac-d1c6-400b-827a-dfe0a982eefb",
   "metadata": {},
   "outputs": [],
   "source": []
  },
  {
   "cell_type": "code",
   "execution_count": null,
   "id": "089c1404-2e5d-440e-b69b-6ef05d5c4f5b",
   "metadata": {},
   "outputs": [],
   "source": []
  },
  {
   "cell_type": "code",
   "execution_count": 3,
   "id": "91d1cd45-c928-4b6b-bc65-37a3c8dff41f",
   "metadata": {},
   "outputs": [
    {
     "data": {
      "text/plain": [
       "'https://www.wayfair.com/furniture/pdp/latitude-run-garysburg-solid-wood-5-drawer-accent-chest-w007680564.html'"
      ]
     },
     "execution_count": 3,
     "metadata": {},
     "output_type": "execute_result"
    }
   ],
   "source": [
    "from selenium_recaptcha_solver import RecaptchaSolver\n",
    "base_url=lst_uls[2]\n",
    "base_url"
   ]
  },
  {
   "cell_type": "code",
   "execution_count": null,
   "id": "f7d393e7-2cbd-4ff5-bb2c-d88d3eac64e8",
   "metadata": {},
   "outputs": [],
   "source": []
  },
  {
   "cell_type": "code",
   "execution_count": 6,
   "id": "c94a08b7-b227-4d71-bcf9-ec33373ec599",
   "metadata": {},
   "outputs": [],
   "source": [
    "def not_medding_kid(base_url):\n",
    "    test_ua = 'Mozilla/5.0 (Windows NT 4.0; WOW64) AppleWebKit/537.36 (KHTML, like Gecko) Chrome/37.0.2049.0 Safari/537.36'\n",
    "    options = Options()\n",
    "    \n",
    "    # options.add_argument(\"--headless\")  # Remove this if you want to see the browser (Headless makes the chromedriver not have a GUI)\n",
    "    options.add_argument(\"--window-size=1920,1080\")\n",
    "    options.add_argument(f'--user-agent={test_ua}')\n",
    "    options.add_argument('--no-sandbox')\n",
    "    options.add_argument(\"--disable-extensions\")\n",
    "    \n",
    "    test_driver = webdriver.Chrome(options=options)\n",
    "    \n",
    "    solver = RecaptchaSolver(driver=test_driver)\n",
    "    time.sleep(7)\n",
    "    test_driver.get(base_url)\n",
    "    recaptcha_iframe = None\n",
    "    try:\n",
    "        time.sleep(2)\n",
    "        recaptcha_iframe = test_driver.find_element(By.XPATH, '//iframe[@title=\"reCAPTCHA\"]')\n",
    "    except Exception as e:\n",
    "        str(e)\n",
    "    \n",
    "    \n",
    "    print('here')\n",
    "    if recaptcha_iframe:\n",
    "        try:\n",
    "            solver.click_recaptcha_v2(iframe=recaptcha_iframe)\n",
    "            print('captacha found!')\n",
    "        except RecaptchaException as rre:\n",
    "            print('captacha not able to resolve')\n",
    "        except Exception as e:\n",
    "            print('error came please look into it')\n",
    "    else:\n",
    "        print('nah!!')\n",
    "    \n",
    "    wait =  WebDriverWait(test_driver, 20)\n",
    "    wait.until(EC.visibility_of_element_located((By.CLASS_NAME, 'SFPrice')))\n",
    "    \n",
    "    time.sleep(5)\n",
    "    soup = BeautifulSoup(test_driver.page_source,'html.parser')\n",
    "    \n",
    "    r1=None; r2=None; r3=None\n",
    "    try:\n",
    "        r1 = soup.find('span', class_='ProductRatingNumberWithCount-rating')\n",
    "        r2 = soup.find('span', class_='ProductRatingNumberWithCount-count').text.strip()\n",
    "        r3 = soup.find('div',class_='SFPrice').text\n",
    "    except Exception as e:\n",
    "        print(type(soup))\n",
    "        print('not able to get detail')\n",
    "    \n",
    "    print(r1,r2,r3)\n",
    "    time.sleep(3)\n",
    "    test_driver.close()\n",
    "    test_driver.quit()"
   ]
  },
  {
   "cell_type": "code",
   "execution_count": 7,
   "id": "5fb768fc-9d50-45d2-a2e9-e0b3bf0aa53f",
   "metadata": {},
   "outputs": [
    {
     "name": "stdout",
     "output_type": "stream",
     "text": [
      "here\n",
      "nah!!\n",
      "<span class=\"ProductRatingNumberWithCount-rating\">4.0</span> 82 Reviews $119.99$155.9923% Off\n"
     ]
    }
   ],
   "source": [
    "not_medding_kid(base_url)"
   ]
  },
  {
   "cell_type": "code",
   "execution_count": null,
   "id": "d3001777-b13a-4a1a-a357-3f74c5943b21",
   "metadata": {},
   "outputs": [],
   "source": []
  },
  {
   "cell_type": "code",
   "execution_count": null,
   "id": "40e650a3-8361-468e-8d95-4c0112c67239",
   "metadata": {},
   "outputs": [],
   "source": []
  },
  {
   "cell_type": "code",
   "execution_count": 10,
   "id": "08008b8d-5aa6-4a85-a784-4c579bf95ba5",
   "metadata": {},
   "outputs": [
    {
     "name": "stdout",
     "output_type": "stream",
     "text": [
      "here\n",
      "nah!!\n",
      "<span class=\"ProductRatingNumberWithCount-rating\">0.0</span> 0 Reviews $163.99\n",
      "here\n",
      "nah!!\n",
      "<span class=\"ProductRatingNumberWithCount-rating\">4.7</span> 7 Reviews $114.99\n",
      "here\n",
      "nah!!\n",
      "<span class=\"ProductRatingNumberWithCount-rating\">4.0</span> 82 Reviews $119.99$155.9923% Off\n"
     ]
    }
   ],
   "source": [
    "for i in lst_uls:\n",
    "    not_medding_kid(i)"
   ]
  },
  {
   "cell_type": "code",
   "execution_count": null,
   "id": "0102c678-4e24-4c8e-975a-8f7039624186",
   "metadata": {},
   "outputs": [],
   "source": []
  },
  {
   "cell_type": "code",
   "execution_count": null,
   "id": "e00c6024-c71e-4872-8fcf-6f595f620990",
   "metadata": {},
   "outputs": [],
   "source": []
  },
  {
   "cell_type": "code",
   "execution_count": null,
   "id": "54fe177c-c005-4e75-b626-486397d98d64",
   "metadata": {},
   "outputs": [],
   "source": [
    "test_driver.close()\n",
    "test_driver.quit()"
   ]
  },
  {
   "cell_type": "code",
   "execution_count": null,
   "id": "bdcd020f-275b-49a0-8f02-ba87a954f3cf",
   "metadata": {},
   "outputs": [],
   "source": []
  }
 ],
 "metadata": {
  "kernelspec": {
   "display_name": "Python 3 (ipykernel)",
   "language": "python",
   "name": "python3"
  },
  "language_info": {
   "codemirror_mode": {
    "name": "ipython",
    "version": 3
   },
   "file_extension": ".py",
   "mimetype": "text/x-python",
   "name": "python",
   "nbconvert_exporter": "python",
   "pygments_lexer": "ipython3",
   "version": "3.11.4"
  }
 },
 "nbformat": 4,
 "nbformat_minor": 5
}
