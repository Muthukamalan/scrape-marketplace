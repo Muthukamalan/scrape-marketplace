{
 "cells": [
  {
   "cell_type": "code",
   "execution_count": 1,
   "id": "2c9f59f3-ff06-4052-952e-05b5ca3047a7",
   "metadata": {},
   "outputs": [],
   "source": [
    "import json\n",
    "import time\n",
    "import re\n",
    "import os\n",
    "import glob\n",
    "\n",
    "from urllib.parse import urljoin\n",
    "from bs4 import BeautifulSoup\n",
    "import requests\n",
    "from selenium import webdriver\n",
    "from selenium.webdriver.common.by import By\n",
    "from selenium.webdriver.support.ui import WebDriverWait\n",
    "from selenium.webdriver.support import expected_conditions as EC\n",
    "from selenium.common.exceptions import TimeoutException,WebDriverException"
   ]
  },
  {
   "cell_type": "code",
   "execution_count": 3,
   "id": "8cadcad9-5833-4773-a130-a91500e88877",
   "metadata": {},
   "outputs": [
    {
     "data": {
      "text/plain": [
       "200"
      ]
     },
     "execution_count": 3,
     "metadata": {},
     "output_type": "execute_result"
    }
   ],
   "source": [
    "headers = {\n",
    "    'User-Agent': 'Mozilla/5.0 (Windows NT 10.0; Win64; x64) AppleWebKit/537.36 (KHTML, like Gecko) Chrome/91.0.4472.124 Safari/537.36',\n",
    "    'Accept-Language': 'en-US,en;q=0.9',\n",
    "}\n",
    "\n",
    "base_url = 'https://www.homedepot.com/p/321898041'\n",
    "res = requests.get(base_url,headers=headers)\n",
    "res.status_code"
   ]
  },
  {
   "cell_type": "code",
   "execution_count": 4,
   "id": "2679c724-0dd3-46f5-bc47-7466ead92f59",
   "metadata": {},
   "outputs": [],
   "source": [
    "content     = BeautifulSoup(res.content,'html.parser')\n",
    "sub_content = content.find('script',type=\"text/javascript\")"
   ]
  },
  {
   "cell_type": "code",
   "execution_count": 5,
   "id": "9aba341b-0be6-48d1-bba4-109aacc18fb2",
   "metadata": {},
   "outputs": [
    {
     "data": {
      "text/plain": [
       "'74.5 in. W Square Arm Leather Straight Top Grain Leather Mid-Century Sofa in Beige'"
      ]
     },
     "execution_count": 5,
     "metadata": {},
     "output_type": "execute_result"
    }
   ],
   "source": [
    "content.find('div','product-details__badge-title--wrapper').text"
   ]
  },
  {
   "cell_type": "code",
   "execution_count": 6,
   "id": "c0e133e8-66b7-4082-bd66-450a643f04b0",
   "metadata": {},
   "outputs": [
    {
     "data": {
      "text/plain": [
       "'(15)'"
      ]
     },
     "execution_count": 6,
     "metadata": {},
     "output_type": "execute_result"
    }
   ],
   "source": [
    "content.find('a','product-details__rating-container').get_text()"
   ]
  },
  {
   "cell_type": "code",
   "execution_count": 7,
   "id": "0220ac70-d7c7-4d77-918c-c86817bd8ba7",
   "metadata": {},
   "outputs": [
    {
     "data": {
      "text/plain": [
       "'4.0 out of 5'"
      ]
     },
     "execution_count": 7,
     "metadata": {},
     "output_type": "execute_result"
    }
   ],
   "source": [
    "re.search(r'title=\"([^\"]+)\"', str(content.find('a','product-details__rating-container'))).group(1)"
   ]
  },
  {
   "cell_type": "code",
   "execution_count": 8,
   "id": "e7749b65-1fec-4aed-bdeb-bdff6c710988",
   "metadata": {},
   "outputs": [
    {
     "data": {
      "text/plain": [
       "'$546.73'"
      ]
     },
     "execution_count": 8,
     "metadata": {},
     "output_type": "execute_result"
    }
   ],
   "source": [
    "content.find('div','price-format__large price-format__main-price').text"
   ]
  },
  {
   "cell_type": "code",
   "execution_count": 68,
   "id": "79e83185-cf6a-4042-8c4e-a7c284db6ed4",
   "metadata": {},
   "outputs": [
    {
     "data": {
      "text/plain": [
       "<div class=\"product-details__review\"><a class=\"product-details__rating-container\" href=\"#product-section-rr\" title=\"4.0 out of 5\"><span class=\"product-details__BVRR-rating-normal-image\" id=\"product-details__review__target\"><div class=\"reviews--c43xm product-details__ratings\" title=\"\"><span class=\"stars--c43xm\" style=\"width:80%\"></span></div><span class=\"product-details__review-count\">(<!-- -->15<!-- -->)</span></span><span class=\"product-details__tooltip\"></span></a><a class=\"sui-ml-2\" href=\"#product-section-qa\">Questions &amp; Answers <!-- -->(22)</a></div>"
      ]
     },
     "execution_count": 68,
     "metadata": {},
     "output_type": "execute_result"
    }
   ],
   "source": [
    "content.find('div','product-details__review')"
   ]
  },
  {
   "cell_type": "code",
   "execution_count": null,
   "id": "403f7cb9-95b2-4b7d-a2aa-9986882e9cfd",
   "metadata": {},
   "outputs": [],
   "source": [
    "con"
   ]
  },
  {
   "cell_type": "code",
   "execution_count": null,
   "id": "dcc53864-02a3-4218-863a-bc81e348cfa1",
   "metadata": {},
   "outputs": [],
   "source": []
  },
  {
   "cell_type": "markdown",
   "id": "d5893ea3-d2cf-4ff3-918d-cf3fdc97d4d7",
   "metadata": {},
   "source": [
    "###### driver"
   ]
  },
  {
   "cell_type": "code",
   "execution_count": 13,
   "id": "d2fa2397-61a8-4e76-a0e0-ffe40171d08a",
   "metadata": {},
   "outputs": [],
   "source": [
    "from selenium.webdriver.chrome.options import Options\n",
    "options = Options()\n",
    "options.add_argument(\"--incognito\")"
   ]
  },
  {
   "cell_type": "code",
   "execution_count": 69,
   "id": "53fbda76-1706-4988-8f2a-e4c847c6c01a",
   "metadata": {},
   "outputs": [
    {
     "ename": "TimeoutException",
     "evalue": "Message: \nStacktrace:\n#0 0x564c37486c23 <unknown>\n#1 0x564c372c49c6 <unknown>\n#2 0x564c372fe072 <unknown>\n#3 0x564c372fe1a1 <unknown>\n#4 0x564c37336024 <unknown>\n#5 0x564c3731c9dd <unknown>\n#6 0x564c37333aee <unknown>\n#7 0x564c3731c783 <unknown>\n#8 0x564c372f2c54 <unknown>\n#9 0x564c372f3c8e <unknown>\n#10 0x564c36fa392d <unknown>\n#11 0x564c36fa2dc6 <unknown>\n#12 0x564c37479d4f <unknown>\n#13 0x564c3710dd7c <unknown>\n#14 0x564c3718ffe3 <unknown>\n#15 0x564c3718ff28 <unknown>\n#16 0x564c37480d4f <unknown>\n#17 0x564c37484d65 <unknown>\n#18 0x7fe0ae99cb43 <unknown>\n",
     "output_type": "error",
     "traceback": [
      "\u001b[0;31m---------------------------------------------------------------------------\u001b[0m",
      "\u001b[0;31mTimeoutException\u001b[0m                          Traceback (most recent call last)",
      "Cell \u001b[0;32mIn[69], line 15\u001b[0m\n\u001b[1;32m     13\u001b[0m driver\u001b[38;5;241m.\u001b[39mpage_source\n\u001b[1;32m     14\u001b[0m wait \u001b[38;5;241m=\u001b[39m WebDriverWait(driver, \u001b[38;5;241m13\u001b[39m)\n\u001b[0;32m---> 15\u001b[0m \u001b[43mwait\u001b[49m\u001b[38;5;241;43m.\u001b[39;49m\u001b[43muntil\u001b[49m\u001b[43m(\u001b[49m\u001b[43mEC\u001b[49m\u001b[38;5;241;43m.\u001b[39;49m\u001b[43mvisibility_of_element_located\u001b[49m\u001b[43m(\u001b[49m\u001b[43m(\u001b[49m\u001b[43mBy\u001b[49m\u001b[38;5;241;43m.\u001b[39;49m\u001b[43mCLASS_NAME\u001b[49m\u001b[43m,\u001b[49m\u001b[43m \u001b[49m\u001b[38;5;124;43m'\u001b[39;49m\u001b[38;5;124;43maccordion-body--6rxdg accordion-body--expanded--6rxdg\u001b[39;49m\u001b[38;5;124;43m'\u001b[39;49m\u001b[43m)\u001b[49m\u001b[43m)\u001b[49m\u001b[43m)\u001b[49m\n\u001b[1;32m     16\u001b[0m \u001b[38;5;66;03m# hovered_html = driver.page_source\u001b[39;00m\n\u001b[1;32m     17\u001b[0m \u001b[38;5;66;03m# time.sleep(3)\u001b[39;00m\n\u001b[1;32m     18\u001b[0m \n\u001b[1;32m     19\u001b[0m \u001b[38;5;66;03m# class=\"grid accordion-body__wrapper--6rxdg\"\u001b[39;00m\n\u001b[1;32m     20\u001b[0m \u001b[38;5;66;03m# driver.find_elements(By.CLASS_NAME,'')\u001b[39;00m\n\u001b[1;32m     22\u001b[0m ele \u001b[38;5;241m=\u001b[39m driver\u001b[38;5;241m.\u001b[39mfind_elements(By\u001b[38;5;241m.\u001b[39mID,\u001b[38;5;124m'\u001b[39m\u001b[38;5;124mratings-and-reviews\u001b[39m\u001b[38;5;124m'\u001b[39m)\n",
      "File \u001b[0;32m~/miniconda3/envs/ojenv/lib/python3.11/site-packages/selenium/webdriver/support/wait.py:95\u001b[0m, in \u001b[0;36mWebDriverWait.until\u001b[0;34m(self, method, message)\u001b[0m\n\u001b[1;32m     93\u001b[0m     \u001b[38;5;28;01mif\u001b[39;00m time\u001b[38;5;241m.\u001b[39mmonotonic() \u001b[38;5;241m>\u001b[39m end_time:\n\u001b[1;32m     94\u001b[0m         \u001b[38;5;28;01mbreak\u001b[39;00m\n\u001b[0;32m---> 95\u001b[0m \u001b[38;5;28;01mraise\u001b[39;00m TimeoutException(message, screen, stacktrace)\n",
      "\u001b[0;31mTimeoutException\u001b[0m: Message: \nStacktrace:\n#0 0x564c37486c23 <unknown>\n#1 0x564c372c49c6 <unknown>\n#2 0x564c372fe072 <unknown>\n#3 0x564c372fe1a1 <unknown>\n#4 0x564c37336024 <unknown>\n#5 0x564c3731c9dd <unknown>\n#6 0x564c37333aee <unknown>\n#7 0x564c3731c783 <unknown>\n#8 0x564c372f2c54 <unknown>\n#9 0x564c372f3c8e <unknown>\n#10 0x564c36fa392d <unknown>\n#11 0x564c36fa2dc6 <unknown>\n#12 0x564c37479d4f <unknown>\n#13 0x564c3710dd7c <unknown>\n#14 0x564c3718ffe3 <unknown>\n#15 0x564c3718ff28 <unknown>\n#16 0x564c37480d4f <unknown>\n#17 0x564c37484d65 <unknown>\n#18 0x7fe0ae99cb43 <unknown>\n"
     ]
    }
   ],
   "source": [
    "# driver = webdriver.Chrome(options=options)\n",
    "driver = webdriver.Chrome()\n",
    "# driver.maximize_window()\n",
    "driver.get(url='https://www.homedepot.com/p/321898041')\n",
    "# zip_code = driver.find_element(By.ID, 'deliveryZipInput')\n",
    "# zip_code.send_keys(96921)\n",
    "# update_zip_button = driver.find_element(By.ID, 'deliveryZipUpdateButton')\n",
    "# update_zip_button\n",
    "\n",
    "element=driver.find_element(By.ID, 'ratings-and-reviews-accordion-title') \n",
    "webdriver.ActionChains(driver).move_to_element(element).click().perform()\n",
    "time.sleep(3)\n",
    "driver.page_source\n",
    "wait = WebDriverWait(driver, 5)\n",
    "wait.until(EC.visibility_of_element_located((By.CLASS_NAME, 'accordion-body--6rxdg accordion-body--expanded--6rxdg')))\n",
    "# hovered_html = driver.page_source\n",
    "# time.sleep(3)\n",
    "\n",
    "# class=\"grid accordion-body__wrapper--6rxdg\"\n",
    "# driver.find_elements(By.CLASS_NAME,'')\n",
    "\n",
    "ele = driver.find_elements(By.ID,'ratings-and-reviews')\n",
    "# print(f\"total number of reviews : {re.search(r'(\\d+)\\s+reviews',ele[0].text).group(1)}\")\n",
    "\n",
    "reviews_pattern = re.compile(r\"out of 15 reviews\\n(.*?)Write a Review\", re.DOTALL)\n",
    "text =reviews_pattern.findall(ele[0].text)[0].strip()\n",
    "\n",
    "print([l for idx, l in enumerate(text.splitlines()[1:]) if idx % 2 == 1])\n",
    "print([l for idx, l in enumerate(text.splitlines()[1:]) if idx % 2 == 0])\n",
    "\n",
    "driver.quit()"
   ]
  },
  {
   "cell_type": "code",
   "execution_count": 55,
   "id": "ffe31703-be1d-4456-9e9d-cfadfa6d2543",
   "metadata": {},
   "outputs": [
    {
     "data": {
      "text/plain": [
       "[]"
      ]
     },
     "execution_count": 55,
     "metadata": {},
     "output_type": "execute_result"
    }
   ],
   "source": [
    "ele"
   ]
  },
  {
   "cell_type": "code",
   "execution_count": null,
   "id": "d4c6e63a-550e-44c9-b06e-0b38cdb9a901",
   "metadata": {},
   "outputs": [],
   "source": []
  }
 ],
 "metadata": {
  "kernelspec": {
   "display_name": "Python 3 (ipykernel)",
   "language": "python",
   "name": "python3"
  },
  "language_info": {
   "codemirror_mode": {
    "name": "ipython",
    "version": 3
   },
   "file_extension": ".py",
   "mimetype": "text/x-python",
   "name": "python",
   "nbconvert_exporter": "python",
   "pygments_lexer": "ipython3",
   "version": "3.11.4"
  }
 },
 "nbformat": 4,
 "nbformat_minor": 5
}
