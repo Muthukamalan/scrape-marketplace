{
 "cells": [
  {
   "cell_type": "code",
   "execution_count": 2,
   "id": "03754d85-0af5-422b-8f03-550ec2a3144d",
   "metadata": {},
   "outputs": [
    {
     "data": {
      "text/plain": [
       "'/home/muthu/Documents/scraping/notes'"
      ]
     },
     "execution_count": 2,
     "metadata": {},
     "output_type": "execute_result"
    }
   ],
   "source": [
    "pwd"
   ]
  },
  {
   "cell_type": "code",
   "execution_count": 1,
   "id": "3b597d70-81ec-41b3-9d4a-d10b2d095074",
   "metadata": {},
   "outputs": [],
   "source": [
    "import json\n",
    "import time\n",
    "import re\n",
    "import os\n",
    "import glob\n",
    "\n",
    "from urllib.parse import urljoin\n",
    "from bs4 import BeautifulSoup\n",
    "import requests\n",
    "from selenium import webdriver\n",
    "from selenium.webdriver.common.by import By\n",
    "from selenium.webdriver.support.ui import WebDriverWait\n",
    "from selenium.webdriver.support import expected_conditions as EC\n",
    "from selenium.common.exceptions import TimeoutException,WebDriverException"
   ]
  },
  {
   "cell_type": "code",
   "execution_count": 2,
   "id": "f32d982d-941e-4339-a813-be96236c2823",
   "metadata": {},
   "outputs": [],
   "source": [
    "# headers = {\n",
    "#     'User-Agent': 'Mozilla/5.0 (Windows NT 10.0; Win64; x64) AppleWebKit/537.36 (KHTML, like Gecko) Chrome/91.0.4472.124 Safari/537.36',\n",
    "#     'Accept-Language': 'en-US,en;q=0.9',\n",
    "# }\n",
    "\n",
    "\n",
    "# res = requests.get(base_url,headers=headers)\n",
    "# content     = BeautifulSoup(res.content,'html.parser')\n",
    "# res.status_code"
   ]
  },
  {
   "cell_type": "code",
   "execution_count": null,
   "id": "b6157630-b7aa-4db9-b9cd-40cddce236a1",
   "metadata": {},
   "outputs": [],
   "source": []
  },
  {
   "cell_type": "code",
   "execution_count": null,
   "id": "c7b51186-e523-4cf6-85ef-1e8aaf599723",
   "metadata": {},
   "outputs": [],
   "source": []
  },
  {
   "cell_type": "code",
   "execution_count": 3,
   "id": "1f717a94-f4fe-4bb6-a0c8-4e567c549a7a",
   "metadata": {},
   "outputs": [],
   "source": [
    "from selenium.webdriver.chrome.options import Options\n",
    "from selenium.webdriver.support.ui import Select"
   ]
  },
  {
   "cell_type": "code",
   "execution_count": null,
   "id": "2ebd8100-18ec-4d3f-abf7-d31d0477be88",
   "metadata": {},
   "outputs": [],
   "source": []
  },
  {
   "cell_type": "code",
   "execution_count": 4,
   "id": "6e5b578b-4660-4023-95dc-4b3ef55e9294",
   "metadata": {},
   "outputs": [
    {
     "name": "stdout",
     "output_type": "stream",
     "text": [
      "India\n",
      "True\n",
      "True\n",
      "True\n",
      "True\n",
      "United States\n",
      "last button: Let's go shopping\n"
     ]
    }
   ],
   "source": [
    "\n",
    "options = Options()\n",
    "options.add_argument(\"--incognito\")\n",
    "options.add_argument(\"--disable-geolocation\")\n",
    "base_url = 'https://www.bedbathandbeyond.com/Home-Garden/Slumber-Solutions-Choose-Your-Comfort-14-inch-King-size-Gel-Memory-Foam-Mattress/8600148/product.html?refccid=4WIL32VK3BHZLOCF2PPZUVAOSM&searchidx=0'\n",
    "driver = webdriver.Chrome(options=options)\n",
    "# driver = webdriver.Chrome()\n",
    "driver.maximize_window()\n",
    "\n",
    "driver.get(url=base_url)\n",
    "content = driver.page_source\n",
    "button_ele = driver.find_element(By.CLASS_NAME,'cl-form-button')\n",
    "print(button_ele.text)\n",
    "\n",
    "button_ele.click()\n",
    "\n",
    "wait =  WebDriverWait(driver, 10)\n",
    "wait.until(EC.visibility_of_element_located((By.CLASS_NAME, 'cl-form-select-custom-option')))\n",
    "\n",
    "span_ele = driver.find_element(By.XPATH,\"//span[@label='United States']\")\n",
    "driver.execute_script(\"arguments[0].scrollIntoView(true);\", span_ele)\n",
    "\n",
    "\n",
    "driver.execute_script(\"arguments[0].click();\", span_ele)\n",
    "\n",
    "time.sleep(2)\n",
    "print(button_ele.text)\n",
    "\n",
    "list_buttons = driver.find_elements(By.CLASS_NAME,'cl-button')\n",
    "print(f'last button: {list_buttons[-1].text}')\n",
    "time.sleep(2)\n",
    "list_buttons[-1].click()\n",
    "\n",
    "# driver.find_element(By.CLASS_NAME,'cl-button').click()\n",
    "\n",
    "# shop_button = driver.find_element(By.XPATH,\"//button[text()='Let\\'s go shopping']\")\n",
    "# shop_button.click()\n",
    "\n",
    "# button_element = wait.until(EC.visibility_of_element_located((By.XPATH, \"//button[text()='Let's go shopping']\")))\n",
    "\n",
    "\n",
    "\n",
    "# select = Select(button_ele)\n",
    "# select.select_by_index(0)\n"
   ]
  },
  {
   "cell_type": "code",
   "execution_count": 7,
   "id": "c595bafe-eb0a-4f65-9fe9-3643d9f934ab",
   "metadata": {},
   "outputs": [
    {
     "data": {
      "text/plain": [
       "<selenium.webdriver.remote.webelement.WebElement (session=\"fe7b718f166edb27bbf0fe48a6221979\", element=\"23184E0495AF988CE4CAA1FDDDE463BE_element_50\")>"
      ]
     },
     "execution_count": 7,
     "metadata": {},
     "output_type": "execute_result"
    }
   ],
   "source": [
    "list_buttons[-1]"
   ]
  },
  {
   "cell_type": "code",
   "execution_count": null,
   "id": "b94b052b-5cd1-4ade-87af-bf1254f98767",
   "metadata": {
    "scrolled": true
   },
   "outputs": [],
   "source": [
    "# using other way\n",
    "# driver = webdriver.Chrome()\n",
    "# driver.get(base_url)\n",
    "# time.sleep(3)\n",
    "# driver.find_element(By.CLASS_NAME,'cl-dialog-close').click()\n",
    "# time.sleep(2)\n",
    "# # driver.find_element(By.CLASS_NAME,'Banner_IntlFlag_6f').click()\n",
    "# driver.find_element(By.CLASS_NAME,'Banner_FlagImage_3c').click()"
   ]
  },
  {
   "cell_type": "code",
   "execution_count": null,
   "id": "7e0386fb-d5e5-4d3a-b1f8-fbb85668b97e",
   "metadata": {},
   "outputs": [],
   "source": []
  },
  {
   "cell_type": "code",
   "execution_count": null,
   "id": "a6eda9b6-91e3-464b-8d3f-4b6ea7b5c1e9",
   "metadata": {},
   "outputs": [],
   "source": []
  }
 ],
 "metadata": {
  "kernelspec": {
   "display_name": "Python 3 (ipykernel)",
   "language": "python",
   "name": "python3"
  },
  "language_info": {
   "codemirror_mode": {
    "name": "ipython",
    "version": 3
   },
   "file_extension": ".py",
   "mimetype": "text/x-python",
   "name": "python",
   "nbconvert_exporter": "python",
   "pygments_lexer": "ipython3",
   "version": "3.11.4"
  }
 },
 "nbformat": 4,
 "nbformat_minor": 5
}
